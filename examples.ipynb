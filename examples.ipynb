{
 "cells": [
  {
   "cell_type": "code",
   "execution_count": 1,
   "metadata": {},
   "outputs": [],
   "source": [
    "from LinkedList.linked_list import LinkedList"
   ]
  },
  {
   "cell_type": "code",
   "execution_count": 2,
   "metadata": {},
   "outputs": [],
   "source": [
    "linked_list = LinkedList()"
   ]
  },
  {
   "cell_type": "code",
   "execution_count": 3,
   "metadata": {},
   "outputs": [],
   "source": [
    "linked_list.insert(10)         # Append 10 at the end\n",
    "linked_list.insert(30, 1)      # Inserts 30 at index 1\n",
    "linked_list.insert(20, 0)      # Inserts 20 at the beginning\n",
    "linked_list.insert(40,-1)      # Inserts 40 at index -1 (last position)\n",
    "linked_list.insert(-8,-2)      # Inserts -8 at index -2 (second last position)"
   ]
  },
  {
   "cell_type": "code",
   "execution_count": 4,
   "metadata": {},
   "outputs": [
    {
     "name": "stdout",
     "output_type": "stream",
     "text": [
      "20 --> 10 --> 30 --> -8 --> 40 --> None\n"
     ]
    }
   ],
   "source": [
    "print(linked_list)          # output : 20 --> 10 --> 30 --> -8 --> 40 --> None"
   ]
  },
  {
   "cell_type": "code",
   "execution_count": 5,
   "metadata": {},
   "outputs": [
    {
     "name": "stdout",
     "output_type": "stream",
     "text": [
      "30\n",
      "40\n",
      "-8\n",
      "20\n",
      "10\n"
     ]
    }
   ],
   "source": [
    "print(linked_list[2])       # Output: 30 (Value at index 2)\n",
    "print(linked_list[-1])      # Output: 40 (Value of the last element)\n",
    "print(linked_list[-2])      # Output: -8 (Value of the second last element)\n",
    "print(linked_list[0])       # Output: 20 (Value at index 0, i.e value of the first element)\n",
    "print(linked_list[-4])      # Output: 10 (Value at index -4, i.e., value of the fourth last element)"
   ]
  },
  {
   "cell_type": "code",
   "execution_count": 6,
   "metadata": {},
   "outputs": [
    {
     "name": "stdout",
     "output_type": "stream",
     "text": [
      "20\n",
      "10\n",
      "30\n",
      "-8\n",
      "40\n"
     ]
    }
   ],
   "source": [
    "n = len(linked_list)        # Getting length of linked_list\n",
    "\n",
    "for i in range(n) :\n",
    "    print(linked_list[i])\n",
    "\n",
    "# output: \n",
    "# 20 \n",
    "# 10 \n",
    "# 30 \n",
    "# -8 \n",
    "# 40\n"
   ]
  },
  {
   "cell_type": "code",
   "execution_count": 7,
   "metadata": {},
   "outputs": [
    {
     "name": "stdout",
     "output_type": "stream",
     "text": [
      "20\n",
      "10\n",
      "30\n",
      "-8\n",
      "40\n"
     ]
    }
   ],
   "source": [
    "for data in linked_list :\n",
    "    print(data)"
   ]
  },
  {
   "cell_type": "code",
   "execution_count": 8,
   "metadata": {},
   "outputs": [],
   "source": [
    "linked_list[-1] = 25        # Update element at index -1 (i.e last element) to 25\n",
    "linked_list[2]  = 50        # Update element at index 2  (i.e third element) to 50\n",
    "linked_list[0]  = 108       # Update element at index 0  (i.e fist element) to 108\n",
    "linked_list[-2] = -9        # Update element at index -2 (i.e second last element) to -9\n",
    "linked_list[-4] = 0         # Update element at index -4 (i.e value of the fourth last element) to 0"
   ]
  },
  {
   "cell_type": "code",
   "execution_count": 9,
   "metadata": {},
   "outputs": [
    {
     "name": "stdout",
     "output_type": "stream",
     "text": [
      "108 --> 0 --> 50 --> -9 --> 25 --> None\n"
     ]
    }
   ],
   "source": [
    "print(linked_list)"
   ]
  },
  {
   "cell_type": "code",
   "execution_count": 10,
   "metadata": {},
   "outputs": [
    {
     "name": "stdout",
     "output_type": "stream",
     "text": [
      "linked_list1 = 5 --> 4 --> 3 --> 2 --> 1 --> 0 --> None\n",
      "linked_list2 = -5 --> -4 --> -3 --> -2 --> -1 --> None\n",
      "result1 = 5 --> 4 --> 3 --> 2 --> 1 --> 0 --> -5 --> -4 --> -3 --> -2 --> -1 --> None\n",
      "result2 = -5 --> -4 --> -3 --> -2 --> -1 --> 5 --> 4 --> 3 --> 2 --> 1 --> 0 --> None\n",
      "result3 = 5 --> 4 --> 3 --> 2 --> 1 --> 0 --> -5 --> -4 --> -3 --> -2 --> -1 --> 108 --> 0 --> 50 --> -9 --> 25 --> None\n"
     ]
    }
   ],
   "source": [
    "linked_list1 = LinkedList()     # Create linked list\n",
    "linked_list2 = LinkedList()     # Create linked list\n",
    "\n",
    "# Let's add the elements to both the linked lists\n",
    "for i in range(6) :\n",
    "    linked_list1.insert(i , 0)\n",
    "for i in range(5) :\n",
    "    linked_list2.insert(-(i+1) , 0)\n",
    "\n",
    "# Let's print both the linked lists\n",
    "print('linked_list1 =' ,linked_list1)            # output: linked_list1 = 5 --> 4 --> 3 --> 2 --> 1 --> 0 --> None\n",
    "print('linked_list2 =' ,linked_list2)            # output: linked_list2 = -5 --> -4 --> -3 --> -2 --> -1 --> None\n",
    "\n",
    "# Let's perform concatenation of two linked lists linked_list1 and linked_list2\n",
    "result1 = linked_list1 + linked_list2\n",
    "result2 = linked_list2 + linked_list1\n",
    "\n",
    "# Now, let's print concatenated linked list\n",
    "print('result1 =' , result1)                 # output: result1 = 5 --> 4 --> 3 --> 2 --> 1 --> 0 --> -5 --> -4 --> -3 --> -2 --> -1 --> None\n",
    "print('result2 =' , result2)                 # output: result2 = -5 --> -4 --> -3 --> -2 --> -1 --> 5 --> 4 --> 3 --> 2 --> 1 --> 0 --> None\n",
    "\n",
    "# Let's perform concatenation of more than two linked lists\n",
    "result3 = linked_list1 + linked_list2 + linked_list\n",
    "\n",
    "# Now, let's print result3\n",
    "print('result3 =' , result3)                 # output: result3 = 5 --> 4 --> 3 --> 2 --> 1 --> 0 --> -5 --> -4 --> -3 --> -2 --> -1 --> 108 --> 0 --> 50 --> -9 --> 25 --> None"
   ]
  },
  {
   "cell_type": "code",
   "execution_count": 11,
   "metadata": {},
   "outputs": [
    {
     "name": "stdout",
     "output_type": "stream",
     "text": [
      "5\n",
      "6\n",
      "5\n",
      "11\n",
      "11\n",
      "16\n"
     ]
    }
   ],
   "source": [
    "# Finding length of linked lists\n",
    "print(len(linked_list ))        # output: 5\n",
    "print(len(linked_list1))        # output: 6\n",
    "print(len(linked_list2))        # output: 5\n",
    "print(len(result1))             # output: 11\n",
    "print(len(result2))             # output: 11\n",
    "print(len(result3))             # output: 16"
   ]
  },
  {
   "cell_type": "code",
   "execution_count": 12,
   "metadata": {},
   "outputs": [
    {
     "name": "stdout",
     "output_type": "stream",
     "text": [
      "Before reversing : linked_list = 108 --> 0 --> 50 --> -9 --> 25 --> None\n",
      "After reversing : linked_list = 25 --> -9 --> 50 --> 0 --> 108 --> None\n",
      "\n",
      "Before reversing : linked_list1 = 5 --> 4 --> 3 --> 2 --> 1 --> 0 --> None\n",
      "After reversing : linked_list1 = 0 --> 1 --> 2 --> 3 --> 4 --> 5 --> None\n",
      "\n",
      "Before reversing : linked_list2 = -5 --> -4 --> -3 --> -2 --> -1 --> None\n",
      "After reversing : linked_list2 = -1 --> -2 --> -3 --> -4 --> -5 --> None\n",
      "\n",
      "Before reversing : result1 = 5 --> 4 --> 3 --> 2 --> 1 --> 0 --> -5 --> -4 --> -3 --> -2 --> -1 --> None\n",
      "After reversing : result1 = -1 --> -2 --> -3 --> -4 --> -5 --> 0 --> 1 --> 2 --> 3 --> 4 --> 5 --> None\n",
      "\n",
      "Before reversing : result2 = -5 --> -4 --> -3 --> -2 --> -1 --> 5 --> 4 --> 3 --> 2 --> 1 --> 0 --> None\n",
      "After reversing : result2 = 0 --> 1 --> 2 --> 3 --> 4 --> 5 --> -1 --> -2 --> -3 --> -4 --> -5 --> None\n",
      "\n",
      "Before reversing : result3 = 5 --> 4 --> 3 --> 2 --> 1 --> 0 --> -5 --> -4 --> -3 --> -2 --> -1 --> 108 --> 0 --> 50 --> -9 --> 25 --> None\n",
      "After reversing : result3 = 25 --> -9 --> 50 --> 0 --> 108 --> -1 --> -2 --> -3 --> -4 --> -5 --> 0 --> 1 --> 2 --> 3 --> 4 --> 5 --> None\n"
     ]
    }
   ],
   "source": [
    "# Reversing nodes of linked lists\n",
    "print('Before reversing : linked_list =' , linked_list)             # output: Before reversing : linked_list = 108 --> 0 --> 50 --> -9 --> 25 --> None\n",
    "reversed(linked_list)\n",
    "print('After reversing : linked_list ='  , linked_list)             # output: After reversing : linked_list = 25 --> -9 --> 50 --> 0 --> 108 --> None\n",
    "\n",
    "print()\n",
    "\n",
    "print('Before reversing : linked_list1 =' ,linked_list1)             # output: Before reversing : linked_list1 = 5 --> 4 --> 3 --> 2 --> 1 --> 0 --> None\n",
    "reversed(linked_list1)\n",
    "print('After reversing : linked_list1 ='  ,linked_list1)             # output: After reversing : linked_list1 = 0 --> 1 --> 2 --> 3 --> 4 --> 5 --> None\n",
    "\n",
    "print()\n",
    "\n",
    "print('Before reversing : linked_list2 =' ,linked_list2)             # output: Before reversing : linked_list2 = -5 --> -4 --> -3 --> -2 --> -1 --> None\n",
    "reversed(linked_list2)\n",
    "print('After reversing : linked_list2 ='  ,linked_list2)             # output: After reversing : linked_list2 = -1 --> -2 --> -3 --> -4 --> -5 --> None\n",
    "\n",
    "print()\n",
    "\n",
    "print('Before reversing : result1 ='     , result1)                 # output: Before reversing : result1 = 5 --> 4 --> 3 --> 2 --> 1 --> 0 --> -5 --> -4 --> -3 --> -2 --> -1 --> None\n",
    "reversed(result1)\n",
    "print('After reversing : result1 ='      , result1)                 # output: After reversing : result1 = -1 --> -2 --> -3 --> -4 --> -5 --> 0 --> 1 --> 2 --> 3 --> 4 --> 5 --> None\n",
    "\n",
    "print()\n",
    "\n",
    "print('Before reversing : result2 ='     , result2)                 # output: Before reversing : result2 = -5 --> -4 --> -3 --> -2 --> -1 --> 5 --> 4 --> 3 --> 2 --> 1 --> 0 --> None\n",
    "reversed(result2)\n",
    "print('After reversing : result2 ='      , result2)                 # output: After reversing : result2 = 0 --> 1 --> 2 --> 3 --> 4 --> 5 --> -1 --> -2 --> -3 --> -4 --> -5 --> None\n",
    "\n",
    "print()\n",
    "\n",
    "print('Before reversing : result3 ='     , result3)                 # output: Before reversing : result3 = 5 --> 4 --> 3 --> 2 --> 1 --> 0 --> -5 --> -4 --> -3 --> -2 --> -1 --> 108 --> 0 --> 50 --> -9 --> 25 --> None\n",
    "reversed(result3)\n",
    "print('After reversing : result3 ='      , result3)                 # output: After reversing : result3 = 25 --> -9 --> 50 --> 0 --> 108 --> -1 --> -2 --> -3 --> -4 --> -5 --> 0 --> 1 --> 2 --> 3 --> 4 --> 5 --> None\n"
   ]
  },
  {
   "cell_type": "code",
   "execution_count": 13,
   "metadata": {},
   "outputs": [
    {
     "name": "stdout",
     "output_type": "stream",
     "text": [
      "Before multiplication : linked_list = 25 --> -9 --> 50 --> 0 --> 108 --> None\n",
      "After multiplication : linked_list = 50 --> -18 --> 100 --> 0 --> 216 --> None\n",
      "\n",
      "Before division : linked_list = 50 --> -18 --> 100 --> 0 --> 216 --> None\n",
      "After division : linked_list = 25.0 --> -9.0 --> 50.0 --> 0.0 --> 108.0 --> None\n"
     ]
    }
   ],
   "source": [
    "print('Before multiplication : linked_list =' , linked_list)        # output: Before multiplication : linked_list = 25 --> -9 --> 50 --> 0 --> 108 --> None\n",
    "linked_list*2\n",
    "print('After multiplication : linked_list ='  , linked_list)        # output: After multiplication : linked_list = 50 --> -18 --> 100 --> 0 --> 216 --> None\n",
    "\n",
    "print()\n",
    "\n",
    "print('Before division : linked_list =' , linked_list)              # output: After division : linked_list = 50 --> -18 --> 100 --> 0 --> 216 --> None\n",
    "linked_list / 2\n",
    "print('After division : linked_list ='  , linked_list)              # output: After division : linked_list = 25.0 --> -9.0 --> 50.0 --> 0.0 --> 108.0 --> None"
   ]
  },
  {
   "cell_type": "code",
   "execution_count": 14,
   "metadata": {},
   "outputs": [
    {
     "name": "stdout",
     "output_type": "stream",
     "text": [
      "Before sorting : linked_list2 = -1 --> -2 --> -3 --> -4 --> -5 --> None\n",
      "After sorting : linked_list2 = -5 --> -4 --> -3 --> -2 --> -1 --> None\n"
     ]
    }
   ],
   "source": [
    "print('Before sorting : linked_list2 =' , linked_list2)              # output: After sorting : linked_list2 = -1 --> -2 --> -3 --> -4 --> -5 --> None\n",
    "linked_list2.sort()\n",
    "print('After sorting : linked_list2 ='  , linked_list2)              # output: After sorting : linked_list2 = -5 --> -4 --> -3 --> -2 --> -1 --> None\n"
   ]
  },
  {
   "cell_type": "code",
   "execution_count": 15,
   "metadata": {},
   "outputs": [
    {
     "name": "stdout",
     "output_type": "stream",
     "text": [
      "Before sorting : linked_list1 = 0 --> 1 --> 2 --> 3 --> 4 --> 5 --> None\n",
      "After sorting : linked_list1 = 5 --> 4 --> 3 --> 2 --> 1 --> 0 --> None\n"
     ]
    }
   ],
   "source": [
    "print('Before sorting : linked_list1 =' , linked_list1)              # output: After sorting : linked_list1 = 0 --> 1 --> 2 --> 3 --> 4 --> 5 --> None\n",
    "linked_list1.sort(reverse = True)\n",
    "print('After sorting : linked_list1 ='  , linked_list1)              # output: After sorting : linked_list1 = 5 --> 4 --> 3 --> 2 --> 1 --> 0 --> None"
   ]
  }
 ],
 "metadata": {
  "kernelspec": {
   "display_name": "Python 3.8.10 64-bit",
   "language": "python",
   "name": "python3"
  },
  "language_info": {
   "codemirror_mode": {
    "name": "ipython",
    "version": 3
   },
   "file_extension": ".py",
   "mimetype": "text/x-python",
   "name": "python",
   "nbconvert_exporter": "python",
   "pygments_lexer": "ipython3",
   "version": "3.8.10"
  },
  "orig_nbformat": 4,
  "vscode": {
   "interpreter": {
    "hash": "e7370f93d1d0cde622a1f8e1c04877d8463912d04d973331ad4851f04de6915a"
   }
  }
 },
 "nbformat": 4,
 "nbformat_minor": 2
}
